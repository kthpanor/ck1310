{
 "cells": [
  {
   "cell_type": "markdown",
   "id": "6e3367a3-c99c-4c10-b427-93de5b2730a5",
   "metadata": {},
   "source": [
    "# Software for this course\n",
    "\n",
    "In this course, we will be programming Python in Jupyter notebooks. You will install the necessary software on your local laptop. \n",
    "\n",
    "The following sections give basic information on installation, jupyter ntoebooks, and Python syntax:\n",
    "- [Software installation](https://kthpanor.github.io/ck1310/docs/installation.html)\n",
    "- [Python](https://kthpanor.github.io/ck1310/docs/python.html)\n",
    "- [Jupyter notebooks](https://kthpanor.github.io/ck1310/docs/jupyter.html)\n"
   ]
  }
 ],
 "metadata": {
  "kernelspec": {
   "display_name": "Python 3 (ipykernel)",
   "language": "python",
   "name": "python3"
  },
  "language_info": {
   "codemirror_mode": {
    "name": "ipython",
    "version": 3
   },
   "file_extension": ".py",
   "mimetype": "text/x-python",
   "name": "python",
   "nbconvert_exporter": "python",
   "pygments_lexer": "ipython3",
   "version": "3.12.4"
  }
 },
 "nbformat": 4,
 "nbformat_minor": 5
}
