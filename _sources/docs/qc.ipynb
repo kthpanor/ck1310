{
 "cells": [
  {
   "cell_type": "markdown",
   "id": "85b76ed4-9d2b-48fd-8e02-3e219785d0f5",
   "metadata": {},
   "source": [
    "(sec:qc)= \n",
    "# Quantum chemistry\n",
    "With quantum chemistry, one can gain insight into matter at its fundamental scale. It is possible to model complex chemical processes on personal laptops as well as in high performance computing (HPC) environments. However, quantum chemistry is very complex. Several quantum chemistry software packages exist, and to answer a chemical question one is required to select a model system, electronic structure method, basis set, parameters, properties, and etc., among a wide and varied set of options.\n",
    "\n",
    "In this course, we will apply the Python-driven software package [VeloxChem](https://veloxchem.org/docs/intro.html) for the quantum chemical simulations. A simple application of the program is presented below.\n",
    "\n",
    "## Veloxchem\n",
    "Veloxchem [RLV+20] is an electronic structure program for the calculation of spectroscopic properties of molecular systems. It has been designed to provide both a platform for high-performance scientific computing, as well as a platform for interactive quantum chemistry via a Jupyter notebook."
   ]
  },
  {
   "cell_type": "markdown",
   "id": "a7b579d5-1667-4fc0-8dbc-7a8be811339d",
   "metadata": {},
   "source": [
    "### Simulating spectroscopic propertiers with Veloxchem\n",
    "The workflow for simulating IR spectroscopy for the water molecule is presented below, inspired by the example in [eChem](https://kthpanor.github.io/echem/docs/tutorials/vib_ir_calc.html). The workflow consists of the following steps:\n",
    "\n",
    "1. import of modules\n",
    "2. definition of molecule and basis set\n",
    "3. running an SCF optimization\n",
    "4. calculating the molecular Hessian\n",
    "5. running a vibrational analysis to get normal modes and IR intensities"
   ]
  },
  {
   "cell_type": "code",
   "execution_count": 1,
   "id": "357ce876-915f-4b55-821a-6dac52a68965",
   "metadata": {},
   "outputs": [],
   "source": [
    "# import veloxchem and py3Dmol for 3D view of the molecule\n",
    "import veloxchem as vlx\n",
    "\n",
    "# define the water molecule and basis set\n",
    "molecule_string = \"\"\"3\n",
    "\n",
    "  O 0.000 0.000  0.000\n",
    "  H 0.000 0.000  0.950\n",
    "  H 0.896 0.000 -0.317\"\"\"\n",
    "\n",
    "molecule = vlx.Molecule.read_xyz_string(molecule_string)\n",
    "basis = vlx.MolecularBasis.read(molecule, \"sto-3g\", ostream=None)\n",
    "\n",
    "# setup the SCF driver and run the optimization\n",
    "scf_drv = vlx.ScfRestrictedDriver()\n",
    "scf_drv.ostream.mute()\n",
    "\n",
    "scf_results = scf_drv.compute(molecule, basis)"
   ]
  },
  {
   "cell_type": "code",
   "execution_count": 2,
   "id": "34b9c089-f057-42a0-a340-73de8dca30ba",
   "metadata": {},
   "outputs": [],
   "source": [
    "# calculate the Hessian required for IR intensities\n",
    "hessian_drv = vlx.ScfHessianDriver(scf_drv)\n",
    "hessian_drv.ostream.mute()\n",
    "\n",
    "hessian_drv.compute(molecule, basis)\n",
    "\n",
    "# carry out vibrational analysis to get normal modes and IR intensities\n",
    "hessian_drv.vibrational_analysis(molecule)"
   ]
  },
  {
   "cell_type": "markdown",
   "id": "48c99213-9b7f-4e11-906e-12ba6eaf22e9",
   "metadata": {},
   "source": [
    "```\n",
    "                                                   Vibrational Analysis                                                   \n",
    "                                                  ======================                                                  \n",
    "                                                                                                                          \n",
    " Vibrational Mode      1                                                                \n",
    " ----------------------------------------------------                                   \n",
    " Harmonic frequency:                1927.08  cm**-1                                     \n",
    " Reduced mass:                       1.0855  amu                                        \n",
    " Force constant:                     2.3750  mdyne/A                                    \n",
    " IR intensity:                      15.0373  km/mol                                     \n",
    " Normal mode:                                                                           \n",
    "                            X           Y           Z                                   \n",
    " 1       O             0.0587      0.0000      0.0415                                   \n",
    " 2       H            -0.7054      0.0000      0.0092                                   \n",
    " 3       H            -0.2266     -0.0000     -0.6677                                   \n",
    "                                                                                                                          \n",
    "        \n",
    " Vibrational Mode      2                                                                \n",
    " ----------------------------------------------------                                   \n",
    " Harmonic frequency:                4545.78  cm**-1                                     \n",
    " Reduced mass:                       1.0429  amu                                        \n",
    " Force constant:                    12.6969  mdyne/A                                    \n",
    " IR intensity:                      30.3498  km/mol                                     \n",
    " Normal mode:                                                                           \n",
    "                            X           Y           Z                                   \n",
    " 1       O            -0.0397      0.0000     -0.0274                                   \n",
    " 2       H            -0.0299      0.0000      0.7000                                   \n",
    " 3       H             0.6605     -0.0000     -0.2654                                   \n",
    "\n",
    "\n",
    " Vibrational Mode      3                                                                \n",
    " ----------------------------------------------------                                   \n",
    " Harmonic frequency:                4896.44  cm**-1                                     \n",
    " Reduced mass:                       1.0869  amu                                        \n",
    " Force constant:                    15.3533  mdyne/A                                    \n",
    " IR intensity:                      12.8846  km/mol                                     \n",
    " Normal mode:                                                                           \n",
    "                            X           Y           Z                                   \n",
    " 1       O             0.0416      0.0000     -0.0595                                   \n",
    " 2       H            -0.0002      0.0000      0.7111                                   \n",
    " 3       H            -0.6594      0.0000      0.2331                                   \n",
    "```"
   ]
  }
 ],
 "metadata": {
  "kernelspec": {
   "display_name": "Python 3 (ipykernel)",
   "language": "python",
   "name": "python3"
  },
  "language_info": {
   "codemirror_mode": {
    "name": "ipython",
    "version": 3
   },
   "file_extension": ".py",
   "mimetype": "text/x-python",
   "name": "python",
   "nbconvert_exporter": "python",
   "pygments_lexer": "ipython3",
   "version": "3.11.9"
  }
 },
 "nbformat": 4,
 "nbformat_minor": 5
}
