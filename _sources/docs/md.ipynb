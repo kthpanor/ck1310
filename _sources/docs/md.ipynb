{
 "cells": [
  {
   "cell_type": "markdown",
   "id": "a662b007-36aa-44cd-bcab-a3dcd7157235",
   "metadata": {},
   "source": [
    "(sec:md)=\n",
    "# Molecular dynamics\n",
    "\n",
    "A fully quantum mechanical treatment is very costly, and thus only applicable for relatively small systems. This means that unless new approximations are introduced, many systems that are of interest will be far beyond the capabilities of today’s computers. A small piece of protein from the human body can consist of several thousand atoms, and even very small systems can increase by hundreds of atoms when a solvent is added.\n",
    "\n",
    "The simulation of large proteins and long time-scales can instead be consider using molecular dynamics (MD), in which we use simple Newtonian physics on entities (e.g. atoms) constructed to emulate the behavior of the molecular system. In this chapter we will introduce the basics for running an MD simulation with [openMM](https://openmm.org/).\n",
    "\n",
    "## OpenMM\n",
    "OpenMM offers a high-performance toolkit for molecular simulations. It consists of a library of simulation features and an application layer, allowing end-users to use the program directly. The application layer allows openMM to be run as a stand-alone program, which is what we exploit in this course. "
   ]
  },
  {
   "cell_type": "markdown",
   "id": "834951ad-06bd-4aa3-8605-c938836af515",
   "metadata": {},
   "source": [
    "### Running a basic MD simulation with openMM\n",
    "The following example is taken from the [openMM user guide](http://docs.openmm.org/latest/userguide/application/02_running_sims.html#a-first-example).\n",
    "\n",
    "Roughly, the script below carries out five actions:\n",
    "1. loads the PDB file `input.pdb` defining a biomolecular system\n",
    "2. parameterizes the system using the Amber14 force field and TIP3P-FB water model\n",
    "3. minimizes the energy\n",
    "4. runs a simulation of 10,000 steps with a Langevin integrator\n",
    "5. saves a snapshot frame to a PDB file called output.pdb every 1000 time steps."
   ]
  },
  {
   "cell_type": "code",
   "execution_count": 1,
   "id": "373a5eb5-8d3e-4661-b9f8-a08eff44e42a",
   "metadata": {},
   "outputs": [
    {
     "name": "stdout",
     "output_type": "stream",
     "text": [
      "#\"Step\",\"Potential Energy (kJ/mole)\",\"Temperature (K)\"\n",
      "1000,-142928.10780746874,288.7831772532268\n",
      "2000,-141210.98280746874,297.8605344109884\n",
      "3000,-141109.95936996874,301.62768452161595\n",
      "4000,-140333.17030746874,298.9395730771127\n",
      "5000,-140527.99061996874,300.7913947977653\n",
      "6000,-140721.64296371874,298.1767521033987\n",
      "7000,-140221.94765121874,304.97219083586265\n",
      "8000,-140672.76796371874,302.11521486943235\n",
      "9000,-140710.42811996874,302.62621835893003\n",
      "10000,-140988.20546371874,298.65473454535424\n"
     ]
    }
   ],
   "source": [
    "from openmm.app import *\n",
    "from openmm import *\n",
    "from openmm.unit import *\n",
    "from sys import stdout\n",
    "\n",
    "pdb = PDBFile('../input.pdb')\n",
    "forcefield = ForceField('amber14-all.xml', 'amber14/tip3pfb.xml')\n",
    "system = forcefield.createSystem(pdb.topology, nonbondedMethod=PME,\n",
    "        nonbondedCutoff=1*nanometer, constraints=HBonds)\n",
    "integrator = LangevinMiddleIntegrator(300*kelvin, 1/picosecond, 0.004*picoseconds)\n",
    "simulation = Simulation(pdb.topology, system, integrator)\n",
    "simulation.context.setPositions(pdb.positions)\n",
    "simulation.minimizeEnergy()\n",
    "simulation.reporters.append(PDBReporter('output.pdb', 1000))\n",
    "simulation.reporters.append(StateDataReporter(stdout, 1000, step=True,\n",
    "        potentialEnergy=True, temperature=True))\n",
    "simulation.step(10000)"
   ]
  }
 ],
 "metadata": {
  "kernelspec": {
   "display_name": "Python 3 (ipykernel)",
   "language": "python",
   "name": "python3"
  },
  "language_info": {
   "codemirror_mode": {
    "name": "ipython",
    "version": 3
   },
   "file_extension": ".py",
   "mimetype": "text/x-python",
   "name": "python",
   "nbconvert_exporter": "python",
   "pygments_lexer": "ipython3",
   "version": "3.11.9"
  }
 },
 "nbformat": 4,
 "nbformat_minor": 5
}
