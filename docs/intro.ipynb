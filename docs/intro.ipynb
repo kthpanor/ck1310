{
 "cells": [
  {
   "cell_type": "markdown",
   "id": "8ffc7cf6-d5d0-4463-be02-5573e05867ac",
   "metadata": {},
   "source": [
    "# Introduction\n",
    "\n",
    "Welcome to the course *[Python Programming for Chemical Sciences (CK1310)](https://www.kth.se/student/kurser/kurs/CK1310)*.  "
   ]
  },
  {
   "cell_type": "code",
   "execution_count": null,
   "id": "b73b8a71-113d-47d4-b50f-03d0b7866d38",
   "metadata": {},
   "outputs": [],
   "source": []
  }
 ],
 "metadata": {
  "kernelspec": {
   "display_name": "Python 3 (ipykernel)",
   "language": "python",
   "name": "python3"
  },
  "language_info": {
   "codemirror_mode": {
    "name": "ipython",
    "version": 3
   },
   "file_extension": ".py",
   "mimetype": "text/x-python",
   "name": "python",
   "nbconvert_exporter": "python",
   "pygments_lexer": "ipython3",
   "version": "3.11.8"
  }
 },
 "nbformat": 4,
 "nbformat_minor": 5
}
