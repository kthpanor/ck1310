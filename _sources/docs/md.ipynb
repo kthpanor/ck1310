{
 "cells": [
  {
   "cell_type": "markdown",
   "id": "a662b007-36aa-44cd-bcab-a3dcd7157235",
   "metadata": {},
   "source": [
    "(sec:md)=\n",
    "# Molecular dynamics\n",
    "\n",
    "A fully quantum mechanical treatment is very costly, and thus only applicable for relatively small systems. This means that unless new approximations are introduced, many systems that are of interest will be far beyond the capabilities of today’s computers. A small piece of protein from the human body can consist of several thousand atoms, and even very small systems can increase by hundreds of atoms when a solvent is added.\n",
    "\n",
    "The simulation of large proteins and long time-scales can instead be consider using molecular dynamics (MD), in which we use simple Newtonian physics on entities (e.g. atoms) constructed to emulate the behavior of the molecular system. In this chapter we will introduce the basics for running an MD simulation with [openMM](https://openmm.org/).\n",
    "\n",
    "## OpenMM\n",
    "OpenMM offers a high-performance toolkit for molecular simulations. It consists of a library of simulation features and an application layer, allowing end-users to use the program directly. The application layer allows openMM to be run as a stand-alone program, which is what we exploit in this course. "
   ]
  },
  {
   "cell_type": "markdown",
   "id": "834951ad-06bd-4aa3-8605-c938836af515",
   "metadata": {},
   "source": [
    "### Running a basic MD simulation with openMM\n",
    "The following example is taken from the [openMM user guide](http://docs.openmm.org/latest/userguide/application/02_running_sims.html#a-first-example).\n",
    "\n",
    "Roughly, the script below carries out five actions:\n",
    "1. loads a PDB file called input.pdb defining a biomolecular system\n",
    "2. parameterizes the system using the Amber14 force field and TIP3P-FB water model\n",
    "3. minimizes the energy\n",
    "4. runs a simulation of 10,000 steps with a Langevin integrator\n",
    "5. saves a snapshot frame to a PDB file called output.pdb every 1000 time steps."
   ]
  },
  {
   "cell_type": "code",
   "execution_count": null,
   "id": "373a5eb5-8d3e-4661-b9f8-a08eff44e42a",
   "metadata": {},
   "outputs": [],
   "source": [
    "from openmm.app import *\n",
    "from openmm import *\n",
    "from openmm.unit import *\n",
    "from sys import stdout\n",
    "\n",
    "pdb = PDBFile('input.pdb')\n",
    "forcefield = ForceField('amber14-all.xml', 'amber14/tip3pfb.xml')\n",
    "system = forcefield.createSystem(pdb.topology, nonbondedMethod=PME,\n",
    "        nonbondedCutoff=1*nanometer, constraints=HBonds)\n",
    "integrator = LangevinMiddleIntegrator(300*kelvin, 1/picosecond, 0.004*picoseconds)\n",
    "simulation = Simulation(pdb.topology, system, integrator)\n",
    "simulation.context.setPositions(pdb.positions)\n",
    "simulation.minimizeEnergy()\n",
    "simulation.reporters.append(PDBReporter('output.pdb', 1000))\n",
    "simulation.reporters.append(StateDataReporter(stdout, 1000, step=True,\n",
    "        potentialEnergy=True, temperature=True))\n",
    "simulation.step(10000)"
   ]
  }
 ],
 "metadata": {
  "kernelspec": {
   "display_name": "Python 3 (ipykernel)",
   "language": "python",
   "name": "python3"
  },
  "language_info": {
   "codemirror_mode": {
    "name": "ipython",
    "version": 3
   },
   "file_extension": ".py",
   "mimetype": "text/x-python",
   "name": "python",
   "nbconvert_exporter": "python",
   "pygments_lexer": "ipython3",
   "version": "3.12.4"
  }
 },
 "nbformat": 4,
 "nbformat_minor": 5
}
