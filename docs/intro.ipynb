{
 "cells": [
  {
   "cell_type": "markdown",
   "id": "8ffc7cf6-d5d0-4463-be02-5573e05867ac",
   "metadata": {},
   "source": [
    "# Introduction\n",
    "\n",
    "Welcome to the course *[Python Programming for Chemical Sciences (CK1310)](https://www.kth.se/student/kurser/kurs/CK1310)*.  \n",
    "\n",
    "Through interactive studies based on Jupyter notebooks, the course allows a hands-on approach to computational chemistry and python programming. The software that is applied in the course is Python-driven. Python represents a versatile and generic programming language, and is a good choice as the first (or only) language in an engineer's repetoire.\n",
    "\n",
    "There are two focal points in this course, namely to obtain \n",
    "- (i) basic programming skills in Python\n",
    "- (ii) a practical experience with the application of software packages for the study of chemical systems and spectroscopic properties. \n",
    "\n",
    "## Content\n",
    "This Jupyter book contains information and guidelines for the installation of the software needed for this course as well as brief introductions to the relevant chemistry software packages and topics.\n",
    "\n",
    "## Software for this course\n",
    "\n",
    "In this course, we will be programming Python in Jupyter notebooks. You will install the necessary software on your local laptop. \n",
    "\n",
    "The following sections give basic information on installation, jupyter ntoebooks, and Python syntax:\n",
    "- [Software installation](https://kthpanor.github.io/ck1310/docs/installation.html)\n",
    "- [Python](https://kthpanor.github.io/ck1310/docs/python.html)\n",
    "- [Jupyter notebooks](https://kthpanor.github.io/ck1310/docs/jupyter.html)\n"
   ]
  },
  {
   "cell_type": "code",
   "execution_count": null,
   "id": "a55ee4e6-ba4d-427b-8e3c-bfa9d41bf082",
   "metadata": {},
   "outputs": [],
   "source": []
  }
 ],
 "metadata": {
  "kernelspec": {
   "display_name": "Python 3 (ipykernel)",
   "language": "python",
   "name": "python3"
  },
  "language_info": {
   "codemirror_mode": {
    "name": "ipython",
    "version": 3
   },
   "file_extension": ".py",
   "mimetype": "text/x-python",
   "name": "python",
   "nbconvert_exporter": "python",
   "pygments_lexer": "ipython3",
   "version": "3.12.4"
  }
 },
 "nbformat": 4,
 "nbformat_minor": 5
}
