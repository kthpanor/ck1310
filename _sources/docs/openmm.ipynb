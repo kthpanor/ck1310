{
 "cells": [
  {
   "cell_type": "markdown",
   "id": "a662b007-36aa-44cd-bcab-a3dcd7157235",
   "metadata": {},
   "source": [
    "(sec:openmm)=\n",
    "# OpenMM - Molecular mechanics\n",
    "\n",
    "**TODO...**"
   ]
  }
 ],
 "metadata": {
  "kernelspec": {
   "display_name": "Python 3 (ipykernel)",
   "language": "python",
   "name": "python3"
  },
  "language_info": {
   "codemirror_mode": {
    "name": "ipython",
    "version": 3
   },
   "file_extension": ".py",
   "mimetype": "text/x-python",
   "name": "python",
   "nbconvert_exporter": "python",
   "pygments_lexer": "ipython3",
   "version": "3.11.8"
  }
 },
 "nbformat": 4,
 "nbformat_minor": 5
}
