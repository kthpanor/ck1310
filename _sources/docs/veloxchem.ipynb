{
 "cells": [
  {
   "cell_type": "markdown",
   "id": "85b76ed4-9d2b-48fd-8e02-3e219785d0f5",
   "metadata": {},
   "source": [
    "(sec:vlx)= \n",
    "# Veloxchem - Quantum chemistry\n",
    "\n",
    "**TODO...**"
   ]
  }
 ],
 "metadata": {
  "kernelspec": {
   "display_name": "Python 3 (ipykernel)",
   "language": "python",
   "name": "python3"
  },
  "language_info": {
   "codemirror_mode": {
    "name": "ipython",
    "version": 3
   },
   "file_extension": ".py",
   "mimetype": "text/x-python",
   "name": "python",
   "nbconvert_exporter": "python",
   "pygments_lexer": "ipython3",
   "version": "3.11.8"
  }
 },
 "nbformat": 4,
 "nbformat_minor": 5
}
